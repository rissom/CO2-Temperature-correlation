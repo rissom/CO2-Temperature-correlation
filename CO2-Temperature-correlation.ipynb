{
 "cells": [
  {
   "cell_type": "code",
   "execution_count": 2,
   "metadata": {},
   "outputs": [],
   "source": [
    "import numpy\n",
    "import pandas as pd\n",
    "from datetime import datetime, timedelta, date\n",
    "%matplotlib inline"
   ]
  },
  {
   "cell_type": "markdown",
   "metadata": {},
   "source": [
    "Import CO2 data from Hawaii (dataset from: https://datahub.io/core/co2-ppm )"
   ]
  },
  {
   "cell_type": "code",
   "execution_count": 3,
   "metadata": {},
   "outputs": [],
   "source": [
    "url=\"https://pkgstore.datahub.io/core/co2-ppm/co2-mm-mlo_csv/data/5d0e2bc9cc70b8dd8590a31d7ab4526b/co2-mm-mlo_csv.csv\"\n",
    "co2_data=pd.read_csv(url,parse_dates = [\"Date\"], index_col = \"Date\")"
   ]
  },
  {
   "cell_type": "markdown",
   "metadata": {},
   "source": [
    "Show first lines of CO2 data:"
   ]
  },
  {
   "cell_type": "code",
   "execution_count": 4,
   "metadata": {
    "scrolled": true
   },
   "outputs": [
    {
     "data": {
      "text/html": [
       "<div>\n",
       "<style scoped>\n",
       "    .dataframe tbody tr th:only-of-type {\n",
       "        vertical-align: middle;\n",
       "    }\n",
       "\n",
       "    .dataframe tbody tr th {\n",
       "        vertical-align: top;\n",
       "    }\n",
       "\n",
       "    .dataframe thead th {\n",
       "        text-align: right;\n",
       "    }\n",
       "</style>\n",
       "<table border=\"1\" class=\"dataframe\">\n",
       "  <thead>\n",
       "    <tr style=\"text-align: right;\">\n",
       "      <th></th>\n",
       "      <th>Decimal Date</th>\n",
       "      <th>Average</th>\n",
       "      <th>Interpolated</th>\n",
       "      <th>Trend</th>\n",
       "      <th>Number of Days</th>\n",
       "    </tr>\n",
       "    <tr>\n",
       "      <th>Date</th>\n",
       "      <th></th>\n",
       "      <th></th>\n",
       "      <th></th>\n",
       "      <th></th>\n",
       "      <th></th>\n",
       "    </tr>\n",
       "  </thead>\n",
       "  <tbody>\n",
       "    <tr>\n",
       "      <th>1958-03-01</th>\n",
       "      <td>1958.208</td>\n",
       "      <td>315.71</td>\n",
       "      <td>315.71</td>\n",
       "      <td>314.62</td>\n",
       "      <td>-1</td>\n",
       "    </tr>\n",
       "    <tr>\n",
       "      <th>1958-04-01</th>\n",
       "      <td>1958.292</td>\n",
       "      <td>317.45</td>\n",
       "      <td>317.45</td>\n",
       "      <td>315.29</td>\n",
       "      <td>-1</td>\n",
       "    </tr>\n",
       "    <tr>\n",
       "      <th>1958-05-01</th>\n",
       "      <td>1958.375</td>\n",
       "      <td>317.50</td>\n",
       "      <td>317.50</td>\n",
       "      <td>314.71</td>\n",
       "      <td>-1</td>\n",
       "    </tr>\n",
       "    <tr>\n",
       "      <th>1958-06-01</th>\n",
       "      <td>1958.458</td>\n",
       "      <td>-99.99</td>\n",
       "      <td>317.10</td>\n",
       "      <td>314.85</td>\n",
       "      <td>-1</td>\n",
       "    </tr>\n",
       "    <tr>\n",
       "      <th>1958-07-01</th>\n",
       "      <td>1958.542</td>\n",
       "      <td>315.86</td>\n",
       "      <td>315.86</td>\n",
       "      <td>314.98</td>\n",
       "      <td>-1</td>\n",
       "    </tr>\n",
       "  </tbody>\n",
       "</table>\n",
       "</div>"
      ],
      "text/plain": [
       "            Decimal Date  Average  Interpolated   Trend  Number of Days\n",
       "Date                                                                   \n",
       "1958-03-01      1958.208   315.71        315.71  314.62              -1\n",
       "1958-04-01      1958.292   317.45        317.45  315.29              -1\n",
       "1958-05-01      1958.375   317.50        317.50  314.71              -1\n",
       "1958-06-01      1958.458   -99.99        317.10  314.85              -1\n",
       "1958-07-01      1958.542   315.86        315.86  314.98              -1"
      ]
     },
     "execution_count": 4,
     "metadata": {},
     "output_type": "execute_result"
    }
   ],
   "source": [
    "co2_data.head()"
   ]
  },
  {
   "cell_type": "markdown",
   "metadata": {},
   "source": [
    "Import global temperature data (original .csv file from https://www.kaggle.com/dmitriy19/some-visualizations-for-climate-change )"
   ]
  },
  {
   "cell_type": "code",
   "execution_count": 5,
   "metadata": {},
   "outputs": [],
   "source": [
    "url=\"https://unidaplan.com/GlobalTemperatures.csv\"\n",
    "temperature_data=pd.read_csv(url, parse_dates=[\"dt\"], index_col=\"dt\")"
   ]
  },
  {
   "cell_type": "markdown",
   "metadata": {},
   "source": [
    "Show first 5 lines"
   ]
  },
  {
   "cell_type": "code",
   "execution_count": 6,
   "metadata": {},
   "outputs": [
    {
     "data": {
      "text/html": [
       "<div>\n",
       "<style scoped>\n",
       "    .dataframe tbody tr th:only-of-type {\n",
       "        vertical-align: middle;\n",
       "    }\n",
       "\n",
       "    .dataframe tbody tr th {\n",
       "        vertical-align: top;\n",
       "    }\n",
       "\n",
       "    .dataframe thead th {\n",
       "        text-align: right;\n",
       "    }\n",
       "</style>\n",
       "<table border=\"1\" class=\"dataframe\">\n",
       "  <thead>\n",
       "    <tr style=\"text-align: right;\">\n",
       "      <th></th>\n",
       "      <th>LandAverageTemperature</th>\n",
       "      <th>LandAverageTemperatureUncertainty</th>\n",
       "      <th>LandMaxTemperature</th>\n",
       "      <th>LandMaxTemperatureUncertainty</th>\n",
       "      <th>LandMinTemperature</th>\n",
       "      <th>LandMinTemperatureUncertainty</th>\n",
       "      <th>LandAndOceanAverageTemperature</th>\n",
       "      <th>LandAndOceanAverageTemperatureUncertainty</th>\n",
       "    </tr>\n",
       "    <tr>\n",
       "      <th>dt</th>\n",
       "      <th></th>\n",
       "      <th></th>\n",
       "      <th></th>\n",
       "      <th></th>\n",
       "      <th></th>\n",
       "      <th></th>\n",
       "      <th></th>\n",
       "      <th></th>\n",
       "    </tr>\n",
       "  </thead>\n",
       "  <tbody>\n",
       "    <tr>\n",
       "      <th>1750-01-01</th>\n",
       "      <td>3.034</td>\n",
       "      <td>3.574</td>\n",
       "      <td>NaN</td>\n",
       "      <td>NaN</td>\n",
       "      <td>NaN</td>\n",
       "      <td>NaN</td>\n",
       "      <td>NaN</td>\n",
       "      <td>NaN</td>\n",
       "    </tr>\n",
       "    <tr>\n",
       "      <th>1750-02-01</th>\n",
       "      <td>3.083</td>\n",
       "      <td>3.702</td>\n",
       "      <td>NaN</td>\n",
       "      <td>NaN</td>\n",
       "      <td>NaN</td>\n",
       "      <td>NaN</td>\n",
       "      <td>NaN</td>\n",
       "      <td>NaN</td>\n",
       "    </tr>\n",
       "    <tr>\n",
       "      <th>1750-03-01</th>\n",
       "      <td>5.626</td>\n",
       "      <td>3.076</td>\n",
       "      <td>NaN</td>\n",
       "      <td>NaN</td>\n",
       "      <td>NaN</td>\n",
       "      <td>NaN</td>\n",
       "      <td>NaN</td>\n",
       "      <td>NaN</td>\n",
       "    </tr>\n",
       "    <tr>\n",
       "      <th>1750-04-01</th>\n",
       "      <td>8.490</td>\n",
       "      <td>2.451</td>\n",
       "      <td>NaN</td>\n",
       "      <td>NaN</td>\n",
       "      <td>NaN</td>\n",
       "      <td>NaN</td>\n",
       "      <td>NaN</td>\n",
       "      <td>NaN</td>\n",
       "    </tr>\n",
       "    <tr>\n",
       "      <th>1750-05-01</th>\n",
       "      <td>11.573</td>\n",
       "      <td>2.072</td>\n",
       "      <td>NaN</td>\n",
       "      <td>NaN</td>\n",
       "      <td>NaN</td>\n",
       "      <td>NaN</td>\n",
       "      <td>NaN</td>\n",
       "      <td>NaN</td>\n",
       "    </tr>\n",
       "  </tbody>\n",
       "</table>\n",
       "</div>"
      ],
      "text/plain": [
       "            LandAverageTemperature  LandAverageTemperatureUncertainty  \\\n",
       "dt                                                                      \n",
       "1750-01-01                   3.034                              3.574   \n",
       "1750-02-01                   3.083                              3.702   \n",
       "1750-03-01                   5.626                              3.076   \n",
       "1750-04-01                   8.490                              2.451   \n",
       "1750-05-01                  11.573                              2.072   \n",
       "\n",
       "            LandMaxTemperature  LandMaxTemperatureUncertainty  \\\n",
       "dt                                                              \n",
       "1750-01-01                 NaN                            NaN   \n",
       "1750-02-01                 NaN                            NaN   \n",
       "1750-03-01                 NaN                            NaN   \n",
       "1750-04-01                 NaN                            NaN   \n",
       "1750-05-01                 NaN                            NaN   \n",
       "\n",
       "            LandMinTemperature  LandMinTemperatureUncertainty  \\\n",
       "dt                                                              \n",
       "1750-01-01                 NaN                            NaN   \n",
       "1750-02-01                 NaN                            NaN   \n",
       "1750-03-01                 NaN                            NaN   \n",
       "1750-04-01                 NaN                            NaN   \n",
       "1750-05-01                 NaN                            NaN   \n",
       "\n",
       "            LandAndOceanAverageTemperature  \\\n",
       "dt                                           \n",
       "1750-01-01                             NaN   \n",
       "1750-02-01                             NaN   \n",
       "1750-03-01                             NaN   \n",
       "1750-04-01                             NaN   \n",
       "1750-05-01                             NaN   \n",
       "\n",
       "            LandAndOceanAverageTemperatureUncertainty  \n",
       "dt                                                     \n",
       "1750-01-01                                        NaN  \n",
       "1750-02-01                                        NaN  \n",
       "1750-03-01                                        NaN  \n",
       "1750-04-01                                        NaN  \n",
       "1750-05-01                                        NaN  "
      ]
     },
     "execution_count": 6,
     "metadata": {},
     "output_type": "execute_result"
    }
   ],
   "source": [
    "temperature_data.head()"
   ]
  },
  {
   "cell_type": "markdown",
   "metadata": {},
   "source": [
    "Find boundaries of the datasets:"
   ]
  },
  {
   "cell_type": "code",
   "execution_count": 7,
   "metadata": {},
   "outputs": [],
   "source": [
    "start_date = max ( co2_data.head(1).index.values[0], temperature_data.head(1).index.values[0] )\n",
    "end_date   = min ( co2_data.tail(1).index.values[0], temperature_data.tail(1).index.values[0] )\n",
    "climateIndex = pd.date_range(start=start_date, end=end_date, freq=pd.offsets.YearBegin(1)) \n",
    "co2_data2=co2_data.Interpolated[climateIndex]\n",
    "temperature_data2 = temperature_data.LandAndOceanAverageTemperature[climateIndex]"
   ]
  },
  {
   "cell_type": "code",
   "execution_count": 8,
   "metadata": {},
   "outputs": [
    {
     "data": {
      "image/png": "[encoded data removed]",
      "text/plain": [
       "<Figure size 432x288 with 2 Axes>"
      ]
     },
     "metadata": {
      "needs_background": "light"
     },
     "output_type": "display_data"
    }
   ],
   "source": [
    "ax1=co2_data2.plot();\n",
    "ax2=temperature_data2.plot(secondary_y=True);\n",
    "ax1.set_xlabel(\"year\");\n",
    "ax1.set_ylabel(\"CO$_2$ Concentration (ppm)\");\n",
    "ax2.set_ylabel(\"Average Land and Ocean Temperature (°C)\");"
   ]
  },
  {
   "cell_type": "code",
   "execution_count": 9,
   "metadata": {},
   "outputs": [
    {
     "data": {
      "text/plain": [
       "0.7939510207491787"
      ]
     },
     "execution_count": 9,
     "metadata": {},
     "output_type": "execute_result"
    }
   ],
   "source": [
    "co2_data2.corr(temperature_data2)"
   ]
  }
 ],
 "metadata": {
  "kernelspec": {
   "display_name": "Python 3",
   "language": "python",
   "name": "python3"
  },
  "language_info": {
   "codemirror_mode": {
    "name": "ipython",
    "version": 3
   },
   "file_extension": ".py",
   "mimetype": "text/x-python",
   "name": "python",
   "nbconvert_exporter": "python",
   "pygments_lexer": "ipython3",
   "version": "3.7.3"
  }
 },
 "nbformat": 4,
 "nbformat_minor": 2
}
